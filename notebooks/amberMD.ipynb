{
 "cells": [
  {
   "cell_type": "code",
   "execution_count": null,
   "id": "fff75180",
   "metadata": {
    "tags": []
   },
   "outputs": [],
   "source": [
    "import os, sys\n",
    "import argparse\n",
    "from biobb_io.api.pdb import pdb\n",
    "from biobb_amber.pdb4amber.pdb4amber_run import pdb4amber_run\n",
    "from biobb_amber.leap.leap_gen_top import leap_gen_top\n",
    "from biobb_amber.pmemd.pmemd_mdrun import pmemd_mdrun\n",
    "from biobb_amber.process.process_minout import process_minout\n",
    "from biobb_amber.ambpdb.amber_to_pdb import amber_to_pdb\n",
    "from biobb_amber.leap.leap_solvate import leap_solvate\n",
    "from biobb_amber.leap.leap_add_ions import leap_add_ions\n",
    "from biobb_amber.process.process_mdout import process_mdout\n",
    "from biobb_amber.pmemd.pmemd_mdrun import pmemd_mdrun\n",
    "\n",
    "import json"
   ]
  },
  {
   "cell_type": "markdown",
   "id": "7ddaf9fd-9da7-45bb-b78e-190014de342c",
   "metadata": {
    "tags": []
   },
   "source": [
    "`create_dictionaries()` extracts the inputs parameters and arguments for the entire simulation from an inputs.json file. This file would contain the MD \n",
    "parameters for different stages, force field options and some input file names needed for solvation. "
   ]
  },
  {
   "cell_type": "code",
   "execution_count": null,
   "id": "7517fe1f-a1b9-4ff3-a172-7ed52513ccf0",
   "metadata": {
    "tags": []
   },
   "outputs": [],
   "source": [
    "def create_dictionaries(file_path):\n",
    "    with open(file_path, 'r') as f:\n",
    "        data = json.load(f)\n",
    "    dictionaries = {}\n",
    "    for key in data.keys():\n",
    "        dictionaries[key] = data[key]\n",
    "    return dictionaries"
   ]
  },
  {
   "cell_type": "code",
   "execution_count": null,
   "id": "0750ec64-73b2-4e85-a37b-95129c54bbdc",
   "metadata": {
    "tags": []
   },
   "outputs": [],
   "source": [
    "inputs_dict = create_dictionaries('../example/1aki/inputs.json')"
   ]
  },
  {
   "cell_type": "markdown",
   "id": "72012078",
   "metadata": {},
   "source": [
    "`prepPDB()` prepares the input PDB file and processes it to make compatible with AMBER software. Disulfide bonds, missing hydrogen atoms etc. are added in this step. The force field chosen for the simulation is provided here an an input argument. "
   ]
  },
  {
   "cell_type": "code",
   "execution_count": null,
   "id": "2533950d-78ef-4d84-af8e-270e90b32c9d",
   "metadata": {
    "tags": []
   },
   "outputs": [],
   "source": [
    "def prepPDB(input_PDB, forcefield, destination=\"./\"):\n",
    "        \n",
    "    ## Clean the PDB file using pdb4amber tool\n",
    "    output_pdb4amber_path = os.path.join(destination,'structure.pdb4amber.pdb')\n",
    "    pdb4amber_run(input_pdb_path=input_PDB, output_pdb_path=output_pdb4amber_path)\n",
    "    \n",
    "    ## Create topology files for the protein. \n",
    "    leap_gen_top (input_pdb_path=output_pdb4amber_path,\n",
    "                  output_pdb_path=os.path.join(destination,'structure.leap.pdb'), \n",
    "                  output_top_path=os.path.join(destination,'structure.leap.top'), \n",
    "                  output_crd_path=os.path.join(destination,'structure.leap.crd'), \n",
    "                  properties=forcefield)"
   ]
  },
  {
   "cell_type": "markdown",
   "id": "34dc226c-2e96-48e4-9518-8b7052261692",
   "metadata": {},
   "source": [
    "`mdrun()` performs different MD simulation runs, including minimization, NVT, NPT equilibrations and production runs (free runs). The binary file used for the run can be changed to `pmemd` or `pmemd.cuda` depending upon whether you would want to run MD simulations on CPUs or GPUs. If you want to use GPUs, then choose `path_to_amber/22/bin/pmemd.cuda` as the binary path. \n",
    "\n",
    "Refer to this page for details: https://biobb-amber.readthedocs.io/en/latest/pmemd.html#module-pmemd.pmemd_mdrun  "
   ]
  },
  {
   "cell_type": "code",
   "execution_count": null,
   "id": "17ace24b",
   "metadata": {
    "tags": []
   },
   "outputs": [],
   "source": [
    "def mdrun (stage, input_top, prop, destination=\"./\"):\n",
    "\n",
    "    ## PMEMD_mdrun for any steps, including Minimization, Heating, NVT, NPT, and Production\n",
    "    output_traj_path = os.path.join(destination,f\"pmemd.{stage}.nc\")\n",
    "    output_rst_path = os.path.join(destination,f\"pmemd.{stage}.rst\")\n",
    "    output_log_path = os.path.join(destination,f\"pmemd.{stage}.log\")\n",
    "    \n",
    "    print(output_traj_path, output_rst_path, output_log_path)\n",
    "\n",
    "    ## Create and launch bb\n",
    "    pmemd_mdrun(input_top_path=os.path.join(destination,input_top[\"top\"]),\n",
    "                 input_crd_path=os.path.join(destination,input_top[\"crd\"]),\n",
    "                 input_ref_path=os.path.join(destination,input_top[\"crd\"]),\n",
    "                 output_traj_path=output_traj_path,\n",
    "                 output_rst_path=output_rst_path,\n",
    "                 output_log_path=output_log_path,\n",
    "                 properties=prop)"
   ]
  },
  {
   "cell_type": "markdown",
   "id": "cfaf6892-531e-4279-aa9d-fa1428902710",
   "metadata": {},
   "source": [
    "`solvation ()` is used to solvate the system using TIP3P. Howver, different water molecule formats could be used. \n",
    "\n",
    "Refer to this page for details: https://biobb-amber.readthedocs.io/en/latest/leap.html#module-leap.leap_solvate  "
   ]
  },
  {
   "cell_type": "code",
   "execution_count": null,
   "id": "179faf1f",
   "metadata": {
    "tags": []
   },
   "outputs": [],
   "source": [
    "def solvation (input_top, prop, destination='./'):\n",
    "    \n",
    "    ## Create and launch bb\n",
    "    amber_to_pdb(input_top_path=os.path.join(destination,input_top[\"top\"]),\n",
    "                 input_crd_path=os.path.join(destination,input_top[\"crd\"]),\n",
    "                 output_pdb_path=os.path.join(destination,input_top[\"ambpdb\"]),\n",
    "                )\n",
    "\n",
    "    ## Solvation of the protein\n",
    "    leap_solvate(input_pdb_path=os.path.join(destination,input_top[\"ambpdb\"]),\n",
    "                 output_pdb_path=os.path.join(destination,'structure.solv.pdb'),\n",
    "                 output_top_path=os.path.join(destination,'structure.solv.parmtop'),\n",
    "                 output_crd_path=os.path.join(destination,'structure.solv.crd'),\n",
    "                 properties=solvate_prop)"
   ]
  },
  {
   "cell_type": "markdown",
   "id": "dba0ca84-6fd9-48f0-9672-6db6ec48c8f1",
   "metadata": {},
   "source": [
    "`addIons()` is used to add ions to neutralize the system and in addition create an buffer with prescribed concentration. These inputs are taken from the inputs.json file. \n",
    "\n",
    "Refer to this page for details: https://biobb-amber.readthedocs.io/en/latest/leap.html#module-leap.leap_add_ions  "
   ]
  },
  {
   "cell_type": "code",
   "execution_count": null,
   "id": "b3ac42b8",
   "metadata": {
    "tags": []
   },
   "outputs": [],
   "source": [
    "def addIons (input_PDB, prop, destination='./'):\n",
    "    \n",
    "    # Create prop dict and inputs/outputs\n",
    "    output_ions_pdb_path = 'structure.ions.pdb'\n",
    "    output_ions_top_path = 'structure.ions.parmtop'\n",
    "    output_ions_crd_path = 'structure.ions.crd'\n",
    "\n",
    "    # Create and launch bb\n",
    "    leap_add_ions(input_pdb_path=input_PDB,\n",
    "                  output_pdb_path=os.path.join(destination, output_ions_pdb_path),\n",
    "                  output_top_path=os.path.join(destination,output_ions_top_path),\n",
    "                  output_crd_path=os.path.join(destination,output_ions_crd_path),\n",
    "                  properties=prop)"
   ]
  },
  {
   "cell_type": "markdown",
   "id": "01acaa93-0c08-4985-96ae-0073bf38f757",
   "metadata": {},
   "source": [
    "Force field can be different here. Instead of ff19SB, one could also use ff14SB. In addition, if new ligands are used, one can use gaff2 as well. "
   ]
  },
  {
   "cell_type": "code",
   "execution_count": null,
   "id": "829bdca1",
   "metadata": {},
   "outputs": [],
   "source": [
    "forcefield = {\n",
    "    \"forcefield\" : [\"protein.ff19SB\"]\n",
    "}\n",
    "prepPDB (\"../example/1aki/1aki.pdb\", forcefield, destination=\"../example/1aki/\")"
   ]
  },
  {
   "cell_type": "code",
   "execution_count": null,
   "id": "a27439b6",
   "metadata": {},
   "outputs": [],
   "source": [
    "input_top = {\n",
    "    \"top\": \"structure.leap.top\",\n",
    "    \"crd\": \"structure.leap.crd\",\n",
    "    \"pdb\": \"structure.leap.pdb\",\n",
    "    \"ambpdb\": \"structure.ambpdb.pdb\"\n",
    "}\n",
    "\n",
    "prop = {\n",
    "    'simulation_type' : \"min_vacuo\",\n",
    "    \"binary_path\": \"path_to_amber/22/bin/pmemd\",\n",
    "    \"mdin\" : { \n",
    "        'maxcyc' : 500,\n",
    "        'ntpr' : 5,\n",
    "        'ntr' : 1,\n",
    "        'restraintmask' : '\\\":*&!@H=\\\"',\n",
    "        'restraint_wt' : 50.0\n",
    "    }\n",
    "}"
   ]
  },
  {
   "cell_type": "code",
   "execution_count": null,
   "id": "86d229ca",
   "metadata": {},
   "outputs": [],
   "source": [
    "mdrun (\"min_vacuo\", input_top, prop, destination=\"../example/1aki/\")"
   ]
  },
  {
   "cell_type": "code",
   "execution_count": null,
   "id": "d6e6c405",
   "metadata": {},
   "outputs": [],
   "source": [
    "solvate_prop = {\n",
    "    \"forcefield\" : [\"protein.ff19SB\"],\n",
    "    \"water_type\": \"TIP3PBOX\",\n",
    "    \"distance_to_molecule\": \"9.0\",   \n",
    "    \"box_type\": \"truncated_octahedron\"\n",
    "}"
   ]
  },
  {
   "cell_type": "code",
   "execution_count": null,
   "id": "db3b297c",
   "metadata": {},
   "outputs": [],
   "source": [
    "solvation (input_top, solvate_prop, destination='../example/1aki/')"
   ]
  },
  {
   "cell_type": "code",
   "execution_count": null,
   "id": "546c504d",
   "metadata": {},
   "outputs": [],
   "source": [
    "ions_prop = {\n",
    "    \"forcefield\" : [\"protein.ff19SB\"],\n",
    "    \"neutralise\" : True,\n",
    "    \"positive_ions_type\": \"Na+\",\n",
    "    \"negative_ions_type\": \"Cl-\",\n",
    "    \"ionic_concentration\" : 150, # 150mM\n",
    "    \"box_type\": \"truncated_octahedron\"\n",
    "}\n",
    "\n",
    "addIons ('../example/1aki//structure.solv.pdb', ions_prop, destination='../example/1aki/')"
   ]
  },
  {
   "cell_type": "code",
   "execution_count": null,
   "id": "6724708c",
   "metadata": {},
   "outputs": [],
   "source": [
    "input_ions_top = {\n",
    "    \"top\": \"structure.ions.parmtop\",\n",
    "    \"crd\": \"structure.ions.crd\",\n",
    "    \"pdb\": \"structure.ions.pdb\"\n",
    "}\n",
    "\n",
    "prop_min = {\n",
    "    \"simulation_type\" : \"minimization\",\n",
    "    \"binary_path\": \"path_to_amber/22/bin/pmemd\",\n",
    "    \"mdin\" : { \n",
    "        'maxcyc' : 300, # Reducing the number of minimization steps for the sake of time\n",
    "        'ntr' : 1,      # Overwritting restrain parameter\n",
    "        'restraintmask' : '\\\"!:WAT,Cl-,Na+\\\"',      # Restraining solute\n",
    "        'restraint_wt' : 50.0                       # With a force constant of 50 Kcal/mol*A2\n",
    "    }\n",
    "}\n",
    "\n"
   ]
  },
  {
   "cell_type": "code",
   "execution_count": null,
   "id": "2bc0729c",
   "metadata": {},
   "outputs": [],
   "source": [
    "mdrun (\"min\", input_ions_top, prop_min, destination=\"../example/1aki/\")"
   ]
  },
  {
   "cell_type": "code",
   "execution_count": null,
   "id": "cab3f760",
   "metadata": {
    "tags": []
   },
   "outputs": [],
   "source": [
    "input_heat_top = {\n",
    "    \"top\": \"structure.ions.parmtop\",\n",
    "    \"log\": \"pmemd.min.log\",\n",
    "    \"rst\": \"pmemd.min.rst\",\n",
    "    \"crd\": \"pmemd.min.rst\"\n",
    "}\n",
    "\n",
    "prop_heat = {\n",
    "    \"simulation_type\" : \"heat\",\n",
    "    \"binary_path\": \"path_to_amber/22/bin/pmemd.cuda\",\n",
    "    \"mdin\" : { \n",
    "        'nstlim' : 2500, # Reducing the number of steps for the sake of time (5ps)\n",
    "        'ntr' : 1,       # Overwritting restrain parameter\n",
    "        'restraintmask' : '\\\"!:WAT,Cl-,Na+\\\"',      # Restraining solute\n",
    "        'restraint_wt' : 10.0                       # With a force constant of 10 Kcal/mol*A2\n",
    "    }\n",
    "}"
   ]
  },
  {
   "cell_type": "code",
   "execution_count": null,
   "id": "0dc45469",
   "metadata": {
    "tags": []
   },
   "outputs": [],
   "source": [
    "mdrun (\"heat\", input_heat_top, prop_heat, destination=\"../example/1aki/\")"
   ]
  },
  {
   "cell_type": "code",
   "execution_count": null,
   "id": "40f075e3",
   "metadata": {
    "tags": []
   },
   "outputs": [],
   "source": [
    "input_nvt_top = {\n",
    "    \"top\": \"structure.ions.parmtop\",\n",
    "    \"log\": \"pmemd.heat.log\",\n",
    "    \"rst\": \"pmemd.heat.rst\",\n",
    "    \"crd\": \"pmemd.heat.rst\"\n",
    "}\n",
    "\n",
    "\n",
    "prop_nvt = {\n",
    "    \"simulation_type\" : 'nvt',\n",
    "    \"binary_path\": \"path_to_amber/22/bin/pmemd.cuda\",\n",
    "    \"mdin\" : { \n",
    "        'nstlim' : 50000, # Reducing the number of steps for the sake of time (1ps)\n",
    "        'ntr' : 1,      # Overwritting restrain parameter\n",
    "        'restraintmask' : '\\\"!:WAT,Cl-,Na+ & !@H=\\\"',      # Restraining solute heavy atoms\n",
    "        'restraint_wt' : 5.0,                            # With a force constant of 5 Kcal/mol*A2\n",
    "    }\n",
    "}"
   ]
  },
  {
   "cell_type": "code",
   "execution_count": null,
   "id": "7f7d9dff",
   "metadata": {
    "tags": []
   },
   "outputs": [],
   "source": [
    "mdrun (\"nvt\", input_nvt_top, prop_nvt, destination=\"../example/1aki/\")"
   ]
  },
  {
   "cell_type": "code",
   "execution_count": null,
   "id": "36830985",
   "metadata": {},
   "outputs": [],
   "source": [
    "input_npt_top = {\n",
    "    \"top\": \"structure.ions.parmtop\",\n",
    "    \"log\": \"pmemd.nvt.log\",\n",
    "    \"rst\": \"pmemd.nvt.rst\",\n",
    "    \"crd\": \"pmemd.nvt.rst\"\n",
    "}\n",
    "\n",
    "prop_npt = {\n",
    "    \"simulation_type\" : 'npt',\n",
    "    \"binary_path\": \"path_to_amber/22/bin/pmemd.cuda\",\n",
    "    \"mdin\" : { \n",
    "        'nstlim' : 50000, # Reducing the number of steps for the sake of time (1ps)\n",
    "        'ntr' : 1,      # Overwritting restrain parameter\n",
    "        'restraintmask' : '\\\"!:WAT,Cl-,Na+ & !@H=\\\"',      # Restraining solute heavy atoms\n",
    "        'restraint_wt' : 2.5                               # With a force constant of 2.5 Kcal/mol*A2\n",
    "    }\n",
    "}"
   ]
  },
  {
   "cell_type": "code",
   "execution_count": null,
   "id": "f7c38ff5",
   "metadata": {},
   "outputs": [],
   "source": [
    "mdrun (\"npt\", input_npt_top, prop_npt, destination=\"../example/1aki/\")"
   ]
  },
  {
   "cell_type": "code",
   "execution_count": null,
   "id": "86a55697",
   "metadata": {},
   "outputs": [],
   "source": [
    "input_free_top = {\n",
    "    \"top\": \"structure.ions.parmtop\",\n",
    "    \"log\": \"pmemd.npt.log\",\n",
    "    \"rst\": \"pmemd.npt.rst\",\n",
    "    \"crd\": \"pmemd.npt.rst\"\n",
    "}\n",
    "\n",
    "prop_free = {\n",
    "    \"simulation_type\" : 'free',\n",
    "    \"binary_path\": \"path_to_amber/22/bin/pmemd.cuda\",\n",
    "    \"mdin\" : { \n",
    "        'nstlim' : 250000, # Reducing the number of steps for the sake of time (5ps)\n",
    "        'ntwx' : 500  # Print coords to trajectory every 500 steps (1 ps)\n",
    "    }\n",
    "}"
   ]
  },
  {
   "cell_type": "code",
   "execution_count": null,
   "id": "40513db5",
   "metadata": {},
   "outputs": [],
   "source": [
    "mdrun (\"free\", input_free_top, prop_free, destination=\"../example/1aki/\")"
   ]
  },
  {
   "cell_type": "markdown",
   "id": "d6c34492",
   "metadata": {},
   "source": [
    "### Gaussian Accelerated Molecular Dynamics (GaMD):\n",
    "\n",
    "After the equilibrium MD simulation, we can perform enhanced sampling using GaMD. This feature is not currently implemented in the official BioBB_AMBER package. Be sure to include the necessary patches to run this simulation."
   ]
  },
  {
   "cell_type": "code",
   "execution_count": null,
   "id": "e1fbd9d2",
   "metadata": {},
   "outputs": [],
   "source": [
    "input_gamd_top = {\n",
    "    \"top\": \"structure.ions.parmtop\",\n",
    "    \"log\": \"pmemd.free.log\",\n",
    "    \"rst\": \"pmemd.free.rst\",\n",
    "    \"crd\": \"pmemd.free.rst\"\n",
    "}\n",
    "\n",
    "prop_gamd = {\n",
    "    \"simulation_type\" : 'free',\n",
    "    \"binary_path\": \"path_to_amber/22/bin/pmemd.cuda\",\n",
    "    \"mdin\" : { \n",
    "        \"nstlim\" : 300000,\n",
    "        \"ntwx\" : 500,\n",
    "        \"igamd\" : 15,\n",
    "        \"iE\" : 1,\n",
    "        \"iEP\" : 1, \n",
    "        \"iED\" : 1,\n",
    "        \"irest_gamd\" : 0,                                           \n",
    "        \"ntcmd\" : 50000, \n",
    "        \"nteb\" : 250000, \n",
    "        \"ntave\" : 10000,\n",
    "        \"ntcmdprep\" : 20000,\n",
    "        \"ntebprep\" : 20000,\n",
    "        \"sigma0P\" : 6.0,\n",
    "        \"sigma0D\" : 6.0\n",
    "    }\n",
    "}"
   ]
  },
  {
   "cell_type": "code",
   "execution_count": null,
   "id": "5e9140ae",
   "metadata": {},
   "outputs": [],
   "source": [
    "def mdrun_gamd (stage, input_top, prop, destination=\"./\"):\n",
    "\n",
    "    ## PMEMD_mdrun for any steps, including Minimization, Heating, NVT, NPT, and Production\n",
    "    output_traj_path = os.path.join(destination,f\"pmemd.{stage}.nc\")\n",
    "    output_rst_path = os.path.join(destination,f\"pmemd.{stage}.rst\")\n",
    "    output_log_path = os.path.join(destination,f\"pmemd.{stage}.log\")\n",
    "    output_gamd_path = os.path.join(destination,f\"pmemd.test.gamd.log\")\n",
    "    output_mdinfo_path = os.path.join(destination,f\"pmemd.{stage}.mdinfo\")\n",
    "    \n",
    "    print(output_traj_path, output_rst_path, output_log_path, output_mdinfo_path)\n",
    "\n",
    "    ## Create and launch bb\n",
    "    pmemd_mdrun(input_top_path=os.path.join(destination,input_top[\"top\"]),\n",
    "                 input_crd_path=os.path.join(destination,input_top[\"crd\"]),\n",
    "                 input_ref_path=os.path.join(destination,input_top[\"crd\"]),\n",
    "                 output_traj_path=output_traj_path,\n",
    "                 output_rst_path=output_rst_path,\n",
    "                 output_log_path=output_log_path,\n",
    "                 output_gamd_path=output_gamd_path,\n",
    "                 properties=prop)"
   ]
  },
  {
   "cell_type": "code",
   "execution_count": null,
   "id": "4f582e02",
   "metadata": {},
   "outputs": [],
   "source": [
    "mdrun_gamd (\"gamd\", input_gamd_top, prop_gamd, destination=\"../example/1aki/\")"
   ]
  },
  {
   "cell_type": "code",
   "execution_count": null,
   "id": "30dcbb4b",
   "metadata": {},
   "outputs": [],
   "source": [
    "cd ../example/1aki"
   ]
  },
  {
   "cell_type": "code",
   "execution_count": null,
   "id": "ccf08fed",
   "metadata": {},
   "outputs": [],
   "source": [
    "!/path_to_amber/amber/22/bin/pmemd.cuda -O -i gamd.in -p structure.ions.parmtop -c pmemd.free.rst -o pmemd.gamd.out -x pmemd.gamd.nc -r pmemd.gamd.rst -gamd gamd-1.log"
   ]
  },
  {
   "cell_type": "code",
   "execution_count": null,
   "id": "a4f3887d",
   "metadata": {},
   "outputs": [],
   "source": [
    "from biobb_analysis.ambertools.cpptraj_slice import cpptraj_slice\n",
    "prop = {\n",
    "    'start': 1,\n",
    "    'end': -1,\n",
    "    'steps': 1000,\n",
    "    'mask': 'all-atoms',\n",
    "    'format': 'nc'\n",
    "}\n",
    "cpptraj_slice(input_top_path='structure.ions.parmtop',\n",
    "            input_traj_path='pmemd.gamd.nc',\n",
    "            output_cpptraj_path='pmemd.gamd.sliced.nc',\n",
    "            properties=prop)"
   ]
  },
  {
   "cell_type": "code",
   "execution_count": null,
   "id": "78931688",
   "metadata": {},
   "outputs": [],
   "source": []
  }
 ],
 "metadata": {
  "kernelspec": {
   "display_name": "biobb_amber",
   "language": "python",
   "name": "biobb_amber"
  },
  "language_info": {
   "codemirror_mode": {
    "name": "ipython",
    "version": 3
   },
   "file_extension": ".py",
   "mimetype": "text/x-python",
   "name": "python",
   "nbconvert_exporter": "python",
   "pygments_lexer": "ipython3",
   "version": "3.11.6"
  }
 },
 "nbformat": 4,
 "nbformat_minor": 5
}
